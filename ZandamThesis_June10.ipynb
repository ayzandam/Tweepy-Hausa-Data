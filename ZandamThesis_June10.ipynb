{
 "cells": [
  {
   "cell_type": "code",
   "execution_count": 5,
   "id": "019fe187-e25b-4a99-811c-4092547020d6",
   "metadata": {},
   "outputs": [],
   "source": [
    "#importing the necessary python libraries\n",
    "\n",
    "import tweepy\n",
    "import csv\n",
    "import re\n",
    "import io\n",
    "import json\n",
    "import os\n",
    "import pandas as pd\n",
    "import numpy as np\n",
    "from datetime import datetime"
   ]
  },
  {
   "cell_type": "code",
   "execution_count": 6,
   "id": "5125b50a-e193-4ab2-8014-5060ae46ef45",
   "metadata": {},
   "outputs": [],
   "source": [
    "#twitter access_credentials\n",
    "\n",
    "access_token = '4631425769-Iditx1QRFWzaoIxlHAsFyU3r7NT64WRg99Kfyq6'\n",
    "access_secret = 'U5QAGQZZeG7gziUUCCV1U4LYZCDlSHOy7yghWyCoKN3MZ'\n",
    "consumer_key = 'av3lpfoPuUvwp6q5OM7Go87i4'\n",
    "consumer_secret = 'lWGgiM3JioWelDxsr2vyUDB7XFo9OpEocUyA4dXGAW5gC3IkM9'"
   ]
  },
  {
   "cell_type": "code",
   "execution_count": 7,
   "id": "16d5e01a-47fe-4d6b-93cc-a207c708385b",
   "metadata": {},
   "outputs": [],
   "source": [
    "#connecting to twitter platform and getting authorization\n",
    "\n",
    "def connect_to_twitter_OAuth():\n",
    "    auth = tweepy.OAuthHandler(consumer_key, consumer_secret)\n",
    "    auth.set_access_token(access_token, access_secret)\n",
    "    \n",
    "    api = tweepy.API(auth)\n",
    "    \n",
    "    return api\n",
    "\n",
    "api = connect_to_twitter_OAuth()"
   ]
  },
  {
   "cell_type": "code",
   "execution_count": 8,
   "id": "6811e9f5-d9a2-452f-b16b-a57cc646ef1b",
   "metadata": {},
   "outputs": [],
   "source": [
    "client = tweepy.Client(bearer_token = 'AAAAAAAAAAAAAAAAAAAAAHfbYAEAAAAAzJ0HtVwlGEPZBBEd7kWdqb%2Bs9ZE%3Dh6zp5kLmL7K8JWqrDSjyzuF9SJPMsNnxwjGSQ18eQlk0IPggkR')"
   ]
  },
  {
   "cell_type": "code",
   "execution_count": 9,
   "id": "63a03c4b-59c1-4c3c-b1fe-d7f575c9d2e5",
   "metadata": {},
   "outputs": [],
   "source": [
    "#relevants queries to be searched\n",
    "\n",
    "query = ['bbchausa', 'siyasa', 'bikin-sallah', 'gargajiya']\n",
    "count = 3000"
   ]
  },
  {
   "cell_type": "code",
   "execution_count": 10,
   "id": "516c5959-c94d-4f0c-9f8a-8a1bca07edeb",
   "metadata": {},
   "outputs": [],
   "source": [
    "#Number of times to ietrate and date\n",
    "\n",
    "Iteration = 25\n",
    "tweets_wanted = 1000\n",
    "since = \"2022-04-01\""
   ]
  },
  {
   "cell_type": "code",
   "execution_count": 15,
   "id": "bfb8b73f-f5f4-4bcc-b160-78afd1082db1",
   "metadata": {},
   "outputs": [
    {
     "name": "stdout",
     "output_type": "stream",
     "text": [
      "Tweets captured at 2022-05-27 16:55:01.881209 :  1001\n",
      "Tweets captured at 2022-05-27 16:55:37.800956 :  2001\n",
      "Tweets captured at 2022-05-27 16:56:21.886769 :  3001\n",
      "Tweets captured at 2022-05-27 16:56:40.779604 :  4001\n",
      "Tweets captured at 2022-05-27 16:57:00.096513 :  5001\n",
      "Tweets captured at 2022-05-27 16:57:20.997045 :  6001\n",
      "Tweets captured at 2022-05-27 16:57:40.301460 :  7001\n",
      "Tweets captured at 2022-05-27 16:58:01.664324 :  8001\n",
      "Tweets captured at 2022-05-27 16:58:21.539247 :  1001\n",
      "Tweets captured at 2022-05-27 16:58:40.832875 :  2001\n",
      "Tweets captured at 2022-05-27 16:59:00.566530 :  3001\n",
      "Tweets captured at 2022-05-27 16:59:21.682408 :  4001\n",
      "Tweets captured at 2022-05-27 16:59:42.174427 :  5001\n",
      "Tweets captured at 2022-05-27 17:00:01.712280 :  6001\n",
      "Tweets captured at 2022-05-27 17:00:20.314163 :  7001\n",
      "Tweets captured at 2022-05-27 17:00:39.587927 :  8001\n"
     ]
    },
    {
     "ename": "TooManyRequests",
     "evalue": "429 Too Many Requests\n88 - Rate limit exceeded",
     "output_type": "error",
     "traceback": [
      "\u001b[1;31m---------------------------------------------------------------------------\u001b[0m",
      "\u001b[1;31mTooManyRequests\u001b[0m                           Traceback (most recent call last)",
      "\u001b[1;32m<ipython-input-15-dc85328043e9>\u001b[0m in \u001b[0;36m<module>\u001b[1;34m\u001b[0m\n\u001b[0;32m      6\u001b[0m     \u001b[1;31m#for text_query in query:\u001b[0m\u001b[1;33m\u001b[0m\u001b[1;33m\u001b[0m\u001b[1;33m\u001b[0m\u001b[0m\n\u001b[0;32m      7\u001b[0m     \u001b[1;32mfor\u001b[0m \u001b[0mtweet\u001b[0m \u001b[1;32min\u001b[0m \u001b[0mquery\u001b[0m\u001b[1;33m:\u001b[0m\u001b[1;33m\u001b[0m\u001b[1;33m\u001b[0m\u001b[0m\n\u001b[1;32m----> 8\u001b[1;33m         for tweet in tweepy.Cursor(api.search_tweets,\n\u001b[0m\u001b[0;32m      9\u001b[0m                                   \u001b[0mq\u001b[0m\u001b[1;33m=\u001b[0m\u001b[0mquery\u001b[0m\u001b[1;33m,\u001b[0m\u001b[1;33m\u001b[0m\u001b[1;33m\u001b[0m\u001b[0m\n\u001b[0;32m     10\u001b[0m                                    \u001b[0mcount\u001b[0m \u001b[1;33m=\u001b[0m \u001b[1;36m400\u001b[0m\u001b[1;33m,\u001b[0m\u001b[1;33m\u001b[0m\u001b[1;33m\u001b[0m\u001b[0m\n",
      "\u001b[1;32mC:\\ProgramData\\Anaconda3\\lib\\site-packages\\tweepy\\cursor.py\u001b[0m in \u001b[0;36m__next__\u001b[1;34m(self)\u001b[0m\n\u001b[0;32m     84\u001b[0m \u001b[1;33m\u001b[0m\u001b[0m\n\u001b[0;32m     85\u001b[0m     \u001b[1;32mdef\u001b[0m \u001b[0m__next__\u001b[0m\u001b[1;33m(\u001b[0m\u001b[0mself\u001b[0m\u001b[1;33m)\u001b[0m\u001b[1;33m:\u001b[0m\u001b[1;33m\u001b[0m\u001b[1;33m\u001b[0m\u001b[0m\n\u001b[1;32m---> 86\u001b[1;33m         \u001b[1;32mreturn\u001b[0m \u001b[0mself\u001b[0m\u001b[1;33m.\u001b[0m\u001b[0mnext\u001b[0m\u001b[1;33m(\u001b[0m\u001b[1;33m)\u001b[0m\u001b[1;33m\u001b[0m\u001b[1;33m\u001b[0m\u001b[0m\n\u001b[0m\u001b[0;32m     87\u001b[0m \u001b[1;33m\u001b[0m\u001b[0m\n\u001b[0;32m     88\u001b[0m     \u001b[1;32mdef\u001b[0m \u001b[0mnext\u001b[0m\u001b[1;33m(\u001b[0m\u001b[0mself\u001b[0m\u001b[1;33m)\u001b[0m\u001b[1;33m:\u001b[0m\u001b[1;33m\u001b[0m\u001b[1;33m\u001b[0m\u001b[0m\n",
      "\u001b[1;32mC:\\ProgramData\\Anaconda3\\lib\\site-packages\\tweepy\\cursor.py\u001b[0m in \u001b[0;36mnext\u001b[1;34m(self)\u001b[0m\n\u001b[0;32m    284\u001b[0m         \u001b[1;32mif\u001b[0m \u001b[0mself\u001b[0m\u001b[1;33m.\u001b[0m\u001b[0mcurrent_page\u001b[0m \u001b[1;32mis\u001b[0m \u001b[1;32mNone\u001b[0m \u001b[1;32mor\u001b[0m \u001b[0mself\u001b[0m\u001b[1;33m.\u001b[0m\u001b[0mpage_index\u001b[0m \u001b[1;33m==\u001b[0m \u001b[0mlen\u001b[0m\u001b[1;33m(\u001b[0m\u001b[0mself\u001b[0m\u001b[1;33m.\u001b[0m\u001b[0mcurrent_page\u001b[0m\u001b[1;33m)\u001b[0m \u001b[1;33m-\u001b[0m \u001b[1;36m1\u001b[0m\u001b[1;33m:\u001b[0m\u001b[1;33m\u001b[0m\u001b[1;33m\u001b[0m\u001b[0m\n\u001b[0;32m    285\u001b[0m             \u001b[1;31m# Reached end of current page, get the next page...\u001b[0m\u001b[1;33m\u001b[0m\u001b[1;33m\u001b[0m\u001b[1;33m\u001b[0m\u001b[0m\n\u001b[1;32m--> 286\u001b[1;33m             \u001b[0mself\u001b[0m\u001b[1;33m.\u001b[0m\u001b[0mcurrent_page\u001b[0m \u001b[1;33m=\u001b[0m \u001b[0mnext\u001b[0m\u001b[1;33m(\u001b[0m\u001b[0mself\u001b[0m\u001b[1;33m.\u001b[0m\u001b[0mpage_iterator\u001b[0m\u001b[1;33m)\u001b[0m\u001b[1;33m\u001b[0m\u001b[1;33m\u001b[0m\u001b[0m\n\u001b[0m\u001b[0;32m    287\u001b[0m             \u001b[1;32mwhile\u001b[0m \u001b[0mlen\u001b[0m\u001b[1;33m(\u001b[0m\u001b[0mself\u001b[0m\u001b[1;33m.\u001b[0m\u001b[0mcurrent_page\u001b[0m\u001b[1;33m)\u001b[0m \u001b[1;33m==\u001b[0m \u001b[1;36m0\u001b[0m\u001b[1;33m:\u001b[0m\u001b[1;33m\u001b[0m\u001b[1;33m\u001b[0m\u001b[0m\n\u001b[0;32m    288\u001b[0m                 \u001b[0mself\u001b[0m\u001b[1;33m.\u001b[0m\u001b[0mcurrent_page\u001b[0m \u001b[1;33m=\u001b[0m \u001b[0mnext\u001b[0m\u001b[1;33m(\u001b[0m\u001b[0mself\u001b[0m\u001b[1;33m.\u001b[0m\u001b[0mpage_iterator\u001b[0m\u001b[1;33m)\u001b[0m\u001b[1;33m\u001b[0m\u001b[1;33m\u001b[0m\u001b[0m\n",
      "\u001b[1;32mC:\\ProgramData\\Anaconda3\\lib\\site-packages\\tweepy\\cursor.py\u001b[0m in \u001b[0;36m__next__\u001b[1;34m(self)\u001b[0m\n\u001b[0;32m     84\u001b[0m \u001b[1;33m\u001b[0m\u001b[0m\n\u001b[0;32m     85\u001b[0m     \u001b[1;32mdef\u001b[0m \u001b[0m__next__\u001b[0m\u001b[1;33m(\u001b[0m\u001b[0mself\u001b[0m\u001b[1;33m)\u001b[0m\u001b[1;33m:\u001b[0m\u001b[1;33m\u001b[0m\u001b[1;33m\u001b[0m\u001b[0m\n\u001b[1;32m---> 86\u001b[1;33m         \u001b[1;32mreturn\u001b[0m \u001b[0mself\u001b[0m\u001b[1;33m.\u001b[0m\u001b[0mnext\u001b[0m\u001b[1;33m(\u001b[0m\u001b[1;33m)\u001b[0m\u001b[1;33m\u001b[0m\u001b[1;33m\u001b[0m\u001b[0m\n\u001b[0m\u001b[0;32m     87\u001b[0m \u001b[1;33m\u001b[0m\u001b[0m\n\u001b[0;32m     88\u001b[0m     \u001b[1;32mdef\u001b[0m \u001b[0mnext\u001b[0m\u001b[1;33m(\u001b[0m\u001b[0mself\u001b[0m\u001b[1;33m)\u001b[0m\u001b[1;33m:\u001b[0m\u001b[1;33m\u001b[0m\u001b[1;33m\u001b[0m\u001b[0m\n",
      "\u001b[1;32mC:\\ProgramData\\Anaconda3\\lib\\site-packages\\tweepy\\cursor.py\u001b[0m in \u001b[0;36mnext\u001b[1;34m(self)\u001b[0m\n\u001b[0;32m    165\u001b[0m \u001b[1;33m\u001b[0m\u001b[0m\n\u001b[0;32m    166\u001b[0m         \u001b[1;32mif\u001b[0m \u001b[0mself\u001b[0m\u001b[1;33m.\u001b[0m\u001b[0mindex\u001b[0m \u001b[1;33m>=\u001b[0m \u001b[0mlen\u001b[0m\u001b[1;33m(\u001b[0m\u001b[0mself\u001b[0m\u001b[1;33m.\u001b[0m\u001b[0mresults\u001b[0m\u001b[1;33m)\u001b[0m \u001b[1;33m-\u001b[0m \u001b[1;36m1\u001b[0m\u001b[1;33m:\u001b[0m\u001b[1;33m\u001b[0m\u001b[1;33m\u001b[0m\u001b[0m\n\u001b[1;32m--> 167\u001b[1;33m             \u001b[0mdata\u001b[0m \u001b[1;33m=\u001b[0m \u001b[0mself\u001b[0m\u001b[1;33m.\u001b[0m\u001b[0mmethod\u001b[0m\u001b[1;33m(\u001b[0m\u001b[0mmax_id\u001b[0m\u001b[1;33m=\u001b[0m\u001b[0mself\u001b[0m\u001b[1;33m.\u001b[0m\u001b[0mmax_id\u001b[0m\u001b[1;33m,\u001b[0m \u001b[0mparser\u001b[0m\u001b[1;33m=\u001b[0m\u001b[0mRawParser\u001b[0m\u001b[1;33m(\u001b[0m\u001b[1;33m)\u001b[0m\u001b[1;33m,\u001b[0m \u001b[1;33m*\u001b[0m\u001b[0mself\u001b[0m\u001b[1;33m.\u001b[0m\u001b[0margs\u001b[0m\u001b[1;33m,\u001b[0m \u001b[1;33m**\u001b[0m\u001b[0mself\u001b[0m\u001b[1;33m.\u001b[0m\u001b[0mkwargs\u001b[0m\u001b[1;33m)\u001b[0m\u001b[1;33m\u001b[0m\u001b[1;33m\u001b[0m\u001b[0m\n\u001b[0m\u001b[0;32m    168\u001b[0m \u001b[1;33m\u001b[0m\u001b[0m\n\u001b[0;32m    169\u001b[0m             model = ModelParser().parse(\n",
      "\u001b[1;32mC:\\ProgramData\\Anaconda3\\lib\\site-packages\\tweepy\\api.py\u001b[0m in \u001b[0;36mwrapper\u001b[1;34m(*args, **kwargs)\u001b[0m\n\u001b[0;32m     31\u001b[0m         \u001b[1;33m@\u001b[0m\u001b[0mfunctools\u001b[0m\u001b[1;33m.\u001b[0m\u001b[0mwraps\u001b[0m\u001b[1;33m(\u001b[0m\u001b[0mmethod\u001b[0m\u001b[1;33m)\u001b[0m\u001b[1;33m\u001b[0m\u001b[1;33m\u001b[0m\u001b[0m\n\u001b[0;32m     32\u001b[0m         \u001b[1;32mdef\u001b[0m \u001b[0mwrapper\u001b[0m\u001b[1;33m(\u001b[0m\u001b[1;33m*\u001b[0m\u001b[0margs\u001b[0m\u001b[1;33m,\u001b[0m \u001b[1;33m**\u001b[0m\u001b[0mkwargs\u001b[0m\u001b[1;33m)\u001b[0m\u001b[1;33m:\u001b[0m\u001b[1;33m\u001b[0m\u001b[1;33m\u001b[0m\u001b[0m\n\u001b[1;32m---> 33\u001b[1;33m             \u001b[1;32mreturn\u001b[0m \u001b[0mmethod\u001b[0m\u001b[1;33m(\u001b[0m\u001b[1;33m*\u001b[0m\u001b[0margs\u001b[0m\u001b[1;33m,\u001b[0m \u001b[1;33m**\u001b[0m\u001b[0mkwargs\u001b[0m\u001b[1;33m)\u001b[0m\u001b[1;33m\u001b[0m\u001b[1;33m\u001b[0m\u001b[0m\n\u001b[0m\u001b[0;32m     34\u001b[0m         \u001b[0mwrapper\u001b[0m\u001b[1;33m.\u001b[0m\u001b[0mpagination_mode\u001b[0m \u001b[1;33m=\u001b[0m \u001b[0mmode\u001b[0m\u001b[1;33m\u001b[0m\u001b[1;33m\u001b[0m\u001b[0m\n\u001b[0;32m     35\u001b[0m         \u001b[1;32mreturn\u001b[0m \u001b[0mwrapper\u001b[0m\u001b[1;33m\u001b[0m\u001b[1;33m\u001b[0m\u001b[0m\n",
      "\u001b[1;32mC:\\ProgramData\\Anaconda3\\lib\\site-packages\\tweepy\\api.py\u001b[0m in \u001b[0;36mwrapper\u001b[1;34m(*args, **kwargs)\u001b[0m\n\u001b[0;32m     44\u001b[0m             \u001b[0mkwargs\u001b[0m\u001b[1;33m[\u001b[0m\u001b[1;34m'payload_list'\u001b[0m\u001b[1;33m]\u001b[0m \u001b[1;33m=\u001b[0m \u001b[0mpayload_list\u001b[0m\u001b[1;33m\u001b[0m\u001b[1;33m\u001b[0m\u001b[0m\n\u001b[0;32m     45\u001b[0m             \u001b[0mkwargs\u001b[0m\u001b[1;33m[\u001b[0m\u001b[1;34m'payload_type'\u001b[0m\u001b[1;33m]\u001b[0m \u001b[1;33m=\u001b[0m \u001b[0mpayload_type\u001b[0m\u001b[1;33m\u001b[0m\u001b[1;33m\u001b[0m\u001b[0m\n\u001b[1;32m---> 46\u001b[1;33m             \u001b[1;32mreturn\u001b[0m \u001b[0mmethod\u001b[0m\u001b[1;33m(\u001b[0m\u001b[1;33m*\u001b[0m\u001b[0margs\u001b[0m\u001b[1;33m,\u001b[0m \u001b[1;33m**\u001b[0m\u001b[0mkwargs\u001b[0m\u001b[1;33m)\u001b[0m\u001b[1;33m\u001b[0m\u001b[1;33m\u001b[0m\u001b[0m\n\u001b[0m\u001b[0;32m     47\u001b[0m         \u001b[0mwrapper\u001b[0m\u001b[1;33m.\u001b[0m\u001b[0mpayload_list\u001b[0m \u001b[1;33m=\u001b[0m \u001b[0mpayload_list\u001b[0m\u001b[1;33m\u001b[0m\u001b[1;33m\u001b[0m\u001b[0m\n\u001b[0;32m     48\u001b[0m         \u001b[0mwrapper\u001b[0m\u001b[1;33m.\u001b[0m\u001b[0mpayload_type\u001b[0m \u001b[1;33m=\u001b[0m \u001b[0mpayload_type\u001b[0m\u001b[1;33m\u001b[0m\u001b[1;33m\u001b[0m\u001b[0m\n",
      "\u001b[1;32mC:\\ProgramData\\Anaconda3\\lib\\site-packages\\tweepy\\api.py\u001b[0m in \u001b[0;36msearch_tweets\u001b[1;34m(self, q, **kwargs)\u001b[0m\n\u001b[0;32m   1301\u001b[0m         \u001b[1;33m.\u001b[0m\u001b[1;33m.\u001b[0m \u001b[0m_Twitter\u001b[0m\u001b[0;31m'\u001b[0m\u001b[0ms\u001b[0m \u001b[0mdocumentation\u001b[0m \u001b[0mon\u001b[0m \u001b[0mthe\u001b[0m \u001b[0mstandard\u001b[0m \u001b[0msearch\u001b[0m \u001b[0mAPI\u001b[0m\u001b[1;33m:\u001b[0m \u001b[0mhttps\u001b[0m\u001b[1;33m:\u001b[0m\u001b[1;33m//\u001b[0m\u001b[0mdeveloper\u001b[0m\u001b[1;33m.\u001b[0m\u001b[0mtwitter\u001b[0m\u001b[1;33m.\u001b[0m\u001b[0mcom\u001b[0m\u001b[1;33m/\u001b[0m\u001b[0men\u001b[0m\u001b[1;33m/\u001b[0m\u001b[0mdocs\u001b[0m\u001b[1;33m/\u001b[0m\u001b[0mtwitter\u001b[0m\u001b[1;33m-\u001b[0m\u001b[0mapi\u001b[0m\u001b[1;33m/\u001b[0m\u001b[0mv1\u001b[0m\u001b[1;33m/\u001b[0m\u001b[0mtweets\u001b[0m\u001b[1;33m/\u001b[0m\u001b[0msearch\u001b[0m\u001b[1;33m/\u001b[0m\u001b[0moverview\u001b[0m\u001b[1;33m\u001b[0m\u001b[1;33m\u001b[0m\u001b[0m\n\u001b[0;32m   1302\u001b[0m         \"\"\"\n\u001b[1;32m-> 1303\u001b[1;33m         return self.request(\n\u001b[0m\u001b[0;32m   1304\u001b[0m             'GET', 'search/tweets', endpoint_parameters=(\n\u001b[0;32m   1305\u001b[0m                 \u001b[1;34m'q'\u001b[0m\u001b[1;33m,\u001b[0m \u001b[1;34m'geocode'\u001b[0m\u001b[1;33m,\u001b[0m \u001b[1;34m'lang'\u001b[0m\u001b[1;33m,\u001b[0m \u001b[1;34m'locale'\u001b[0m\u001b[1;33m,\u001b[0m \u001b[1;34m'result_type'\u001b[0m\u001b[1;33m,\u001b[0m \u001b[1;34m'count'\u001b[0m\u001b[1;33m,\u001b[0m\u001b[1;33m\u001b[0m\u001b[1;33m\u001b[0m\u001b[0m\n",
      "\u001b[1;32mC:\\ProgramData\\Anaconda3\\lib\\site-packages\\tweepy\\api.py\u001b[0m in \u001b[0;36mrequest\u001b[1;34m(self, method, endpoint, endpoint_parameters, params, headers, json_payload, parser, payload_list, payload_type, post_data, files, require_auth, return_cursors, upload_api, use_cache, **kwargs)\u001b[0m\n\u001b[0;32m    261\u001b[0m                 \u001b[1;32mraise\u001b[0m \u001b[0mNotFound\u001b[0m\u001b[1;33m(\u001b[0m\u001b[0mresp\u001b[0m\u001b[1;33m)\u001b[0m\u001b[1;33m\u001b[0m\u001b[1;33m\u001b[0m\u001b[0m\n\u001b[0;32m    262\u001b[0m             \u001b[1;32mif\u001b[0m \u001b[0mresp\u001b[0m\u001b[1;33m.\u001b[0m\u001b[0mstatus_code\u001b[0m \u001b[1;33m==\u001b[0m \u001b[1;36m429\u001b[0m\u001b[1;33m:\u001b[0m\u001b[1;33m\u001b[0m\u001b[1;33m\u001b[0m\u001b[0m\n\u001b[1;32m--> 263\u001b[1;33m                 \u001b[1;32mraise\u001b[0m \u001b[0mTooManyRequests\u001b[0m\u001b[1;33m(\u001b[0m\u001b[0mresp\u001b[0m\u001b[1;33m)\u001b[0m\u001b[1;33m\u001b[0m\u001b[1;33m\u001b[0m\u001b[0m\n\u001b[0m\u001b[0;32m    264\u001b[0m             \u001b[1;32mif\u001b[0m \u001b[0mresp\u001b[0m\u001b[1;33m.\u001b[0m\u001b[0mstatus_code\u001b[0m \u001b[1;33m>=\u001b[0m \u001b[1;36m500\u001b[0m\u001b[1;33m:\u001b[0m\u001b[1;33m\u001b[0m\u001b[1;33m\u001b[0m\u001b[0m\n\u001b[0;32m    265\u001b[0m                 \u001b[1;32mraise\u001b[0m \u001b[0mTwitterServerError\u001b[0m\u001b[1;33m(\u001b[0m\u001b[0mresp\u001b[0m\u001b[1;33m)\u001b[0m\u001b[1;33m\u001b[0m\u001b[1;33m\u001b[0m\u001b[0m\n",
      "\u001b[1;31mTooManyRequests\u001b[0m: 429 Too Many Requests\n88 - Rate limit exceeded"
     ]
    }
   ],
   "source": [
    "#query to retrieve the relevant datasets\n",
    "\n",
    "icount = 1\n",
    "while icount <= Iteration:\n",
    "    tweets = []\n",
    "    count = 1\n",
    "    \n",
    "    #for text_query in query:\n",
    "    for tweet in query:\n",
    "        for tweet in tweepy.Cursor(api.search_tweets,\n",
    "                                  q=query,\n",
    "                                   count = 400,\n",
    "                                   tweet_mode = \"extended\").items(tweets_wanted):\n",
    "            count += 1\n",
    "            try:\n",
    "                data = [tweet.created_at,\n",
    "                       tweet.id_str,\n",
    "                       tweet.retweet_count,\n",
    "                       tweet.favorite_count,\n",
    "                       tweet.full_text,\n",
    "                       tweet.user._json['screen_name'],\n",
    "                       tweet.user._json['name'],\n",
    "                       tweet.user._json['created_at'],\n",
    "                       tweet.user._json['followers_count'],\n",
    "                       tweet.entities['urls']]\n",
    "                data = tuple(data)\n",
    "                tweets.append(data)\n",
    "            except tweepy.TweepError as e:\n",
    "                print(e.reason)\n",
    "                continue\n",
    "            except stopIteration:\n",
    "                break\n",
    "        now = datetime.now()\n",
    "        print(\"Tweets captured at\", now, \": \", count)\n",
    "        df = pd.DataFrame(tweets, columns = ['created_at',\n",
    "                                            'id_str',\n",
    "                                            'retweet_count',\n",
    "                                            'favorite_count',\n",
    "                                            'full_text',\n",
    "                                            'screen_name',\n",
    "                                            'name',\n",
    "                                            'account_creation_date',\n",
    "                                            'followers_count',\n",
    "                                            'urls'])\n",
    "\n",
    "        icount = icount + 1\n",
    "        if icount > Iteration:\n",
    "            break"
   ]
  },
  {
   "cell_type": "code",
   "execution_count": 3,
   "id": "ed1d1eba-de7a-41f5-bcd7-cc9146ed6c06",
   "metadata": {},
   "outputs": [
    {
     "ename": "NameError",
     "evalue": "name 'df' is not defined",
     "output_type": "error",
     "traceback": [
      "\u001b[1;31m---------------------------------------------------------------------------\u001b[0m",
      "\u001b[1;31mNameError\u001b[0m                                 Traceback (most recent call last)",
      "\u001b[1;32m<ipython-input-3-9587baf61c27>\u001b[0m in \u001b[0;36m<module>\u001b[1;34m\u001b[0m\n\u001b[0;32m      1\u001b[0m \u001b[1;31m#checking the number of instances of the datasets retrieved\u001b[0m\u001b[1;33m\u001b[0m\u001b[1;33m\u001b[0m\u001b[1;33m\u001b[0m\u001b[0m\n\u001b[1;32m----> 2\u001b[1;33m \u001b[0mprint\u001b[0m\u001b[1;33m(\u001b[0m\u001b[1;34m\"Number of instances retrieved: \"\u001b[0m\u001b[1;33m,\u001b[0m \u001b[0mlen\u001b[0m\u001b[1;33m(\u001b[0m\u001b[0mdf\u001b[0m\u001b[1;33m)\u001b[0m\u001b[1;33m)\u001b[0m\u001b[1;33m\u001b[0m\u001b[1;33m\u001b[0m\u001b[0m\n\u001b[0m\u001b[0;32m      3\u001b[0m \u001b[1;33m\u001b[0m\u001b[0m\n\u001b[0;32m      4\u001b[0m \u001b[1;31m#saving the retrieved data to a csv file 'thesis_hausa_data'\u001b[0m\u001b[1;33m\u001b[0m\u001b[1;33m\u001b[0m\u001b[1;33m\u001b[0m\u001b[0m\n\u001b[0;32m      5\u001b[0m \u001b[0mdf\u001b[0m\u001b[1;33m.\u001b[0m\u001b[0mto_csv\u001b[0m\u001b[1;33m(\u001b[0m\u001b[1;34m'thesis_hausa_data.csv'\u001b[0m\u001b[1;33m)\u001b[0m\u001b[1;33m\u001b[0m\u001b[1;33m\u001b[0m\u001b[0m\n",
      "\u001b[1;31mNameError\u001b[0m: name 'df' is not defined"
     ]
    }
   ],
   "source": [
    "#checking the number of instances of the datasets retrieved\n",
    "print(\"Number of instances retrieved: \", len(df))\n",
    "\n",
    "#saving the retrieved data to a csv file 'thesis_hausa_data'\n",
    "df.to_csv('thesis_hausa_data.csv')"
   ]
  },
  {
   "cell_type": "code",
   "execution_count": 33,
   "id": "57d376b2-b3bd-4550-9327-b35d48583a5a",
   "metadata": {},
   "outputs": [],
   "source": [
    "df = pd.read_csv('thesis_hausa_data.csv')"
   ]
  },
  {
   "cell_type": "code",
   "execution_count": 36,
   "id": "a94cb53a-037b-4c87-88ec-c464f2587755",
   "metadata": {},
   "outputs": [
    {
     "data": {
      "text/html": [
       "<div>\n",
       "<style scoped>\n",
       "    .dataframe tbody tr th:only-of-type {\n",
       "        vertical-align: middle;\n",
       "    }\n",
       "\n",
       "    .dataframe tbody tr th {\n",
       "        vertical-align: top;\n",
       "    }\n",
       "\n",
       "    .dataframe thead th {\n",
       "        text-align: right;\n",
       "    }\n",
       "</style>\n",
       "<table border=\"1\" class=\"dataframe\">\n",
       "  <thead>\n",
       "    <tr style=\"text-align: right;\">\n",
       "      <th></th>\n",
       "      <th>Unnamed: 0</th>\n",
       "      <th>created_at</th>\n",
       "      <th>id_str</th>\n",
       "      <th>retweet_count</th>\n",
       "      <th>favorite_count</th>\n",
       "      <th>full_text</th>\n",
       "      <th>screen_name</th>\n",
       "      <th>name</th>\n",
       "      <th>account_creation_date</th>\n",
       "      <th>followers_count</th>\n",
       "      <th>urls</th>\n",
       "    </tr>\n",
       "  </thead>\n",
       "  <tbody>\n",
       "    <tr>\n",
       "      <th>0</th>\n",
       "      <td>0</td>\n",
       "      <td>2022-05-27 15:57:00+00:00</td>\n",
       "      <td>1530216509963902977</td>\n",
       "      <td>0</td>\n",
       "      <td>0</td>\n",
       "      <td>@bbchausa Kena bukata ta biya</td>\n",
       "      <td>MamanSa01923156</td>\n",
       "      <td>Maman Sani</td>\n",
       "      <td>Tue May 10 10:55:33 +0000 2022</td>\n",
       "      <td>0</td>\n",
       "      <td>[]</td>\n",
       "    </tr>\n",
       "    <tr>\n",
       "      <th>1</th>\n",
       "      <td>1</td>\n",
       "      <td>2022-05-27 15:55:40+00:00</td>\n",
       "      <td>1530216173907890178</td>\n",
       "      <td>0</td>\n",
       "      <td>0</td>\n",
       "      <td>@Maryamdaniel31 @bbchausa Maryam</td>\n",
       "      <td>SaLeeh_Damare07</td>\n",
       "      <td>ᴰᴬᴰₛₐₗₑₑₕ📿</td>\n",
       "      <td>Thu May 19 05:31:10 +0000 2022</td>\n",
       "      <td>144</td>\n",
       "      <td>[]</td>\n",
       "    </tr>\n",
       "    <tr>\n",
       "      <th>2</th>\n",
       "      <td>2</td>\n",
       "      <td>2022-05-27 15:55:32+00:00</td>\n",
       "      <td>1530216141859307525</td>\n",
       "      <td>1</td>\n",
       "      <td>0</td>\n",
       "      <td>RT @Maryamdaniel31: @SaLeeh_Damare07 @bbchausa...</td>\n",
       "      <td>SaLeeh_Damare07</td>\n",
       "      <td>ᴰᴬᴰₛₐₗₑₑₕ📿</td>\n",
       "      <td>Thu May 19 05:31:10 +0000 2022</td>\n",
       "      <td>144</td>\n",
       "      <td>[]</td>\n",
       "    </tr>\n",
       "    <tr>\n",
       "      <th>3</th>\n",
       "      <td>3</td>\n",
       "      <td>2022-05-27 15:54:12+00:00</td>\n",
       "      <td>1530215806382006273</td>\n",
       "      <td>0</td>\n",
       "      <td>0</td>\n",
       "      <td>@ALSyakawada @its_bale papa need this before h...</td>\n",
       "      <td>yellawolf_</td>\n",
       "      <td>YELLA</td>\n",
       "      <td>Mon Apr 09 00:04:23 +0000 2012</td>\n",
       "      <td>1968</td>\n",
       "      <td>[{'url': 'https://t.co/MW4xK3yKlI', 'expanded_...</td>\n",
       "    </tr>\n",
       "    <tr>\n",
       "      <th>4</th>\n",
       "      <td>4</td>\n",
       "      <td>2022-05-27 15:54:00+00:00</td>\n",
       "      <td>1530215753399640065</td>\n",
       "      <td>21</td>\n",
       "      <td>0</td>\n",
       "      <td>RT @bbchausa: Kotun Najeriya ta amince Jonatha...</td>\n",
       "      <td>BgdMainer</td>\n",
       "      <td>MainerBgd</td>\n",
       "      <td>Sat Dec 29 16:34:42 +0000 2018</td>\n",
       "      <td>272</td>\n",
       "      <td>[{'url': 'https://t.co/PsePtR9d5R', 'expanded_...</td>\n",
       "    </tr>\n",
       "  </tbody>\n",
       "</table>\n",
       "</div>"
      ],
      "text/plain": [
       "   Unnamed: 0                 created_at               id_str  retweet_count  \\\n",
       "0           0  2022-05-27 15:57:00+00:00  1530216509963902977              0   \n",
       "1           1  2022-05-27 15:55:40+00:00  1530216173907890178              0   \n",
       "2           2  2022-05-27 15:55:32+00:00  1530216141859307525              1   \n",
       "3           3  2022-05-27 15:54:12+00:00  1530215806382006273              0   \n",
       "4           4  2022-05-27 15:54:00+00:00  1530215753399640065             21   \n",
       "\n",
       "   favorite_count                                          full_text  \\\n",
       "0               0                      @bbchausa Kena bukata ta biya   \n",
       "1               0                   @Maryamdaniel31 @bbchausa Maryam   \n",
       "2               0  RT @Maryamdaniel31: @SaLeeh_Damare07 @bbchausa...   \n",
       "3               0  @ALSyakawada @its_bale papa need this before h...   \n",
       "4               0  RT @bbchausa: Kotun Najeriya ta amince Jonatha...   \n",
       "\n",
       "       screen_name        name           account_creation_date  \\\n",
       "0  MamanSa01923156  Maman Sani  Tue May 10 10:55:33 +0000 2022   \n",
       "1  SaLeeh_Damare07  ᴰᴬᴰₛₐₗₑₑₕ📿  Thu May 19 05:31:10 +0000 2022   \n",
       "2  SaLeeh_Damare07  ᴰᴬᴰₛₐₗₑₑₕ📿  Thu May 19 05:31:10 +0000 2022   \n",
       "3       yellawolf_       YELLA  Mon Apr 09 00:04:23 +0000 2012   \n",
       "4        BgdMainer   MainerBgd  Sat Dec 29 16:34:42 +0000 2018   \n",
       "\n",
       "   followers_count                                               urls  \n",
       "0                0                                                 []  \n",
       "1              144                                                 []  \n",
       "2              144                                                 []  \n",
       "3             1968  [{'url': 'https://t.co/MW4xK3yKlI', 'expanded_...  \n",
       "4              272  [{'url': 'https://t.co/PsePtR9d5R', 'expanded_...  "
      ]
     },
     "execution_count": 36,
     "metadata": {},
     "output_type": "execute_result"
    }
   ],
   "source": [
    "df.head()"
   ]
  },
  {
   "cell_type": "code",
   "execution_count": 37,
   "id": "aef06bf2-d2b4-46e3-88e8-31d67ed1afa7",
   "metadata": {},
   "outputs": [
    {
     "data": {
      "text/plain": [
       "(8000, 1)"
      ]
     },
     "execution_count": 37,
     "metadata": {},
     "output_type": "execute_result"
    }
   ],
   "source": [
    "#KEEP TRACK OF THE COUNT OF USER MENTION: \n",
    "user_mentions = []\n",
    "for tweet in df.full_text:\n",
    "  count = 0\n",
    "  for token in str(tweet).split():\n",
    "    if token.startswith('@'):\n",
    "      count +=1\n",
    "  user_mentions.append(count)\n",
    "len(user_mentions), count"
   ]
  },
  {
   "cell_type": "code",
   "execution_count": 38,
   "id": "d7256668-5ae0-4d1f-ba3f-c041843e9047",
   "metadata": {},
   "outputs": [
    {
     "data": {
      "text/html": [
       "<div>\n",
       "<style scoped>\n",
       "    .dataframe tbody tr th:only-of-type {\n",
       "        vertical-align: middle;\n",
       "    }\n",
       "\n",
       "    .dataframe tbody tr th {\n",
       "        vertical-align: top;\n",
       "    }\n",
       "\n",
       "    .dataframe thead th {\n",
       "        text-align: right;\n",
       "    }\n",
       "</style>\n",
       "<table border=\"1\" class=\"dataframe\">\n",
       "  <thead>\n",
       "    <tr style=\"text-align: right;\">\n",
       "      <th></th>\n",
       "      <th>Unnamed: 0</th>\n",
       "      <th>created_at</th>\n",
       "      <th>id_str</th>\n",
       "      <th>retweet_count</th>\n",
       "      <th>favorite_count</th>\n",
       "      <th>full_text</th>\n",
       "      <th>screen_name</th>\n",
       "      <th>name</th>\n",
       "      <th>account_creation_date</th>\n",
       "      <th>followers_count</th>\n",
       "      <th>urls</th>\n",
       "      <th>UserMention</th>\n",
       "    </tr>\n",
       "  </thead>\n",
       "  <tbody>\n",
       "    <tr>\n",
       "      <th>0</th>\n",
       "      <td>0</td>\n",
       "      <td>2022-05-27 15:57:00+00:00</td>\n",
       "      <td>1530216509963902977</td>\n",
       "      <td>0</td>\n",
       "      <td>0</td>\n",
       "      <td>@bbchausa Kena bukata ta biya</td>\n",
       "      <td>MamanSa01923156</td>\n",
       "      <td>Maman Sani</td>\n",
       "      <td>Tue May 10 10:55:33 +0000 2022</td>\n",
       "      <td>0</td>\n",
       "      <td>[]</td>\n",
       "      <td>1</td>\n",
       "    </tr>\n",
       "    <tr>\n",
       "      <th>1</th>\n",
       "      <td>1</td>\n",
       "      <td>2022-05-27 15:55:40+00:00</td>\n",
       "      <td>1530216173907890178</td>\n",
       "      <td>0</td>\n",
       "      <td>0</td>\n",
       "      <td>@Maryamdaniel31 @bbchausa Maryam</td>\n",
       "      <td>SaLeeh_Damare07</td>\n",
       "      <td>ᴰᴬᴰₛₐₗₑₑₕ📿</td>\n",
       "      <td>Thu May 19 05:31:10 +0000 2022</td>\n",
       "      <td>144</td>\n",
       "      <td>[]</td>\n",
       "      <td>2</td>\n",
       "    </tr>\n",
       "    <tr>\n",
       "      <th>2</th>\n",
       "      <td>2</td>\n",
       "      <td>2022-05-27 15:55:32+00:00</td>\n",
       "      <td>1530216141859307525</td>\n",
       "      <td>1</td>\n",
       "      <td>0</td>\n",
       "      <td>RT @Maryamdaniel31: @SaLeeh_Damare07 @bbchausa...</td>\n",
       "      <td>SaLeeh_Damare07</td>\n",
       "      <td>ᴰᴬᴰₛₐₗₑₑₕ📿</td>\n",
       "      <td>Thu May 19 05:31:10 +0000 2022</td>\n",
       "      <td>144</td>\n",
       "      <td>[]</td>\n",
       "      <td>3</td>\n",
       "    </tr>\n",
       "  </tbody>\n",
       "</table>\n",
       "</div>"
      ],
      "text/plain": [
       "   Unnamed: 0                 created_at               id_str  retweet_count  \\\n",
       "0           0  2022-05-27 15:57:00+00:00  1530216509963902977              0   \n",
       "1           1  2022-05-27 15:55:40+00:00  1530216173907890178              0   \n",
       "2           2  2022-05-27 15:55:32+00:00  1530216141859307525              1   \n",
       "\n",
       "   favorite_count                                          full_text  \\\n",
       "0               0                      @bbchausa Kena bukata ta biya   \n",
       "1               0                   @Maryamdaniel31 @bbchausa Maryam   \n",
       "2               0  RT @Maryamdaniel31: @SaLeeh_Damare07 @bbchausa...   \n",
       "\n",
       "       screen_name        name           account_creation_date  \\\n",
       "0  MamanSa01923156  Maman Sani  Tue May 10 10:55:33 +0000 2022   \n",
       "1  SaLeeh_Damare07  ᴰᴬᴰₛₐₗₑₑₕ📿  Thu May 19 05:31:10 +0000 2022   \n",
       "2  SaLeeh_Damare07  ᴰᴬᴰₛₐₗₑₑₕ📿  Thu May 19 05:31:10 +0000 2022   \n",
       "\n",
       "   followers_count urls  UserMention  \n",
       "0                0   []            1  \n",
       "1              144   []            2  \n",
       "2              144   []            3  "
      ]
     },
     "execution_count": 38,
     "metadata": {},
     "output_type": "execute_result"
    }
   ],
   "source": [
    "df['UserMention'] = user_mentions\n",
    "df.head(3)"
   ]
  },
  {
   "cell_type": "code",
   "execution_count": 39,
   "id": "d9d17eb4-2674-4262-aab1-d7b62b5709be",
   "metadata": {},
   "outputs": [
    {
     "data": {
      "text/plain": [
       "7832"
      ]
     },
     "execution_count": 39,
     "metadata": {},
     "output_type": "execute_result"
    }
   ],
   "source": [
    "df = df[df.UserMention<=3]\n",
    "len(df)"
   ]
  },
  {
   "cell_type": "markdown",
   "id": "e3150dd0-ca1b-4c5e-b9c4-7dacd05888d6",
   "metadata": {},
   "source": [
    "**Data Preprocessing**\n",
    "\n",
    "During the data preprocessing, the following tasks were conducted:\n",
    "\n",
    "1. Removing all the retweets from the datasets\n",
    "2. Saving the tweets to a file\n",
    "3. Adding two columns to existing dataset datagram: no_of_words and size columns\n",
    "4. Removing the urls from the tweeted data in 'full_text' column\n",
    "5. Calculating number of words in the text and number of unique/distinct words\n",
    "6. Saving the preprocessed data\n",
    "7. Checking the instances with missing text values"
   ]
  },
  {
   "cell_type": "code",
   "execution_count": 220,
   "id": "23955faa-60c1-4725-97a8-d685417fdbeb",
   "metadata": {},
   "outputs": [
    {
     "name": "stdout",
     "output_type": "stream",
     "text": [
      "\n",
      "The new Datasets\n",
      "New length after removing the retweets:  464\n"
     ]
    }
   ],
   "source": [
    "#Data Preprocessing\n",
    "\n",
    "#removing all the retweets from the datasets\n",
    "data_set = df[df['full_text'].str.contains(\"@\", \"RT\") == False]\n",
    "\n",
    "#veiwing the pure tweets\n",
    "print(\"\\nThe new Datasets\")\n",
    "data_set.full_text\n",
    "\n",
    "#checking the length of the datasets after removing retweets\n",
    "print(\"New length after removing the retweets: \", len(data_set))"
   ]
  },
  {
   "cell_type": "code",
   "execution_count": 221,
   "id": "6a787a71-dd28-4bff-956c-761fb051d432",
   "metadata": {},
   "outputs": [],
   "source": [
    "#saving the tweets to a file\n",
    "\n",
    "data_set.to_csv('thesis_hausa_tweet_data.csv')"
   ]
  },
  {
   "cell_type": "code",
   "execution_count": 223,
   "id": "c7f39a6a-8e81-45c8-803d-51262dfdc323",
   "metadata": {},
   "outputs": [],
   "source": [
    "#Datasets Preprocessing......(continuation)\n",
    "\n",
    "#adding two columns to existing dataset datagram: no_of_words and size columns.\n",
    "#raw_size, unique_size\n",
    "data_set2 = data_set.assign(no_of_words=0, size=0)  \n",
    "\n",
    "\n",
    "#removing the urls from the tweeted data in 'full_text' column\n",
    "data_set2['full_text'] = data_set2['full_text'].replace(to_replace=r'https?:\\/\\/.*[\\r\\n]*', value='', regex=True)\n",
    "\n",
    "\n",
    "#Calculating number of words in the text\n",
    "count = 0\n",
    "for i in data_set2['full_text']:\n",
    "    word_count = len(repr((data_set2['full_text']).iloc[count]).split())\n",
    "    data_set2['no_of_words'].iloc[count] = int(word_count)\n",
    "    count += 1\n",
    "\n",
    "    \n",
    "#calculating the size(unique words) in the sentence\n",
    "count = 0\n",
    "for i in data_set2['full_text']:\n",
    "    tweet_words = repr(i)\n",
    "\n",
    "    unique_words = set(tweet_words.split(\" \"))\n",
    "    data_set2['size'].iloc[count] = int(len(unique_words))\n",
    "\n",
    "    count += 1\n",
    "\n",
    "#saving the data\n",
    "data_set2.to_csv('thesis_hausa_tweet_data2.csv')"
   ]
  },
  {
   "cell_type": "code",
   "execution_count": 63,
   "id": "8b4342f6-9a03-4d8e-b50a-83e44ef02dad",
   "metadata": {},
   "outputs": [
    {
     "name": "stdout",
     "output_type": "stream",
     "text": [
      "Number of instances with missing text:  0\n"
     ]
    }
   ],
   "source": [
    "#viewing the dataset and missing values\n",
    "data_set2\n",
    "\n",
    "print('Number of instances with missing text: ', (data_set2['full_text'].values == '').sum())"
   ]
  },
  {
   "cell_type": "code",
   "execution_count": 64,
   "id": "9379ce2a-f70b-404e-b3b8-a4ee58f81bed",
   "metadata": {},
   "outputs": [],
   "source": [
    "#select id, full_text and size\n",
    "\n",
    "data = data_set2[['id_str', 'full_text', 'size']]"
   ]
  },
  {
   "cell_type": "code",
   "execution_count": 67,
   "id": "943d4fe1-d2b9-42ad-87ee-76dbd535b80d",
   "metadata": {},
   "outputs": [],
   "source": [
    "#create a new column for the annotation\n",
    "\n",
    "data.assign(category1='', category2='', annotation='').to_excel('test.xlsx')"
   ]
  },
  {
   "cell_type": "code",
   "execution_count": 66,
   "id": "83c6116a-83ac-4da6-8fed-e59255228e4a",
   "metadata": {},
   "outputs": [
    {
     "data": {
      "text/html": [
       "<div>\n",
       "<style scoped>\n",
       "    .dataframe tbody tr th:only-of-type {\n",
       "        vertical-align: middle;\n",
       "    }\n",
       "\n",
       "    .dataframe tbody tr th {\n",
       "        vertical-align: top;\n",
       "    }\n",
       "\n",
       "    .dataframe thead th {\n",
       "        text-align: right;\n",
       "    }\n",
       "</style>\n",
       "<table border=\"1\" class=\"dataframe\">\n",
       "  <thead>\n",
       "    <tr style=\"text-align: right;\">\n",
       "      <th></th>\n",
       "      <th>id_str</th>\n",
       "      <th>full_text</th>\n",
       "      <th>size</th>\n",
       "    </tr>\n",
       "  </thead>\n",
       "  <tbody>\n",
       "    <tr>\n",
       "      <th>0</th>\n",
       "      <td>1530213490308395009</td>\n",
       "      <td>Asteroids: Abin da kuke buƙatar sani kan ƙaton...</td>\n",
       "      <td>16</td>\n",
       "    </tr>\n",
       "    <tr>\n",
       "      <th>1</th>\n",
       "      <td>1530213071465193475</td>\n",
       "      <td>Ku kasance da mu don sanin abin da ke jawo min...</td>\n",
       "      <td>15</td>\n",
       "    </tr>\n",
       "    <tr>\n",
       "      <th>2</th>\n",
       "      <td>1530204430515195904</td>\n",
       "      <td>Sake gina Borno ya fi min zama mataimakin shug...</td>\n",
       "      <td>12</td>\n",
       "    </tr>\n",
       "    <tr>\n",
       "      <th>3</th>\n",
       "      <td>1530195703603118080</td>\n",
       "      <td>Karyan banza makayace governor we. We say no t...</td>\n",
       "      <td>12</td>\n",
       "    </tr>\n",
       "    <tr>\n",
       "      <th>4</th>\n",
       "      <td>1530184158164701184</td>\n",
       "      <td>Best governor Mai adalci. Allah bamu I kon yin...</td>\n",
       "      <td>14</td>\n",
       "    </tr>\n",
       "    <tr>\n",
       "      <th>...</th>\n",
       "      <td>...</td>\n",
       "      <td>...</td>\n",
       "      <td>...</td>\n",
       "    </tr>\n",
       "    <tr>\n",
       "      <th>459</th>\n",
       "      <td>1529944423605452826</td>\n",
       "      <td>Namadi sambo?</td>\n",
       "      <td>3</td>\n",
       "    </tr>\n",
       "    <tr>\n",
       "      <th>460</th>\n",
       "      <td>1529942329062309888</td>\n",
       "      <td>NaN</td>\n",
       "      <td>1</td>\n",
       "    </tr>\n",
       "    <tr>\n",
       "      <th>461</th>\n",
       "      <td>1529938734690582545</td>\n",
       "      <td>Hmmmm 🤔🤔🤔🤔</td>\n",
       "      <td>3</td>\n",
       "    </tr>\n",
       "    <tr>\n",
       "      <th>462</th>\n",
       "      <td>1529937371025883141</td>\n",
       "      <td>Allah ya taimaka.</td>\n",
       "      <td>4</td>\n",
       "    </tr>\n",
       "    <tr>\n",
       "      <th>463</th>\n",
       "      <td>1529936746368188432</td>\n",
       "      <td>Oh no  no problem is time enjoy</td>\n",
       "      <td>8</td>\n",
       "    </tr>\n",
       "  </tbody>\n",
       "</table>\n",
       "<p>464 rows × 3 columns</p>\n",
       "</div>"
      ],
      "text/plain": [
       "                  id_str                                          full_text  \\\n",
       "0    1530213490308395009  Asteroids: Abin da kuke buƙatar sani kan ƙaton...   \n",
       "1    1530213071465193475  Ku kasance da mu don sanin abin da ke jawo min...   \n",
       "2    1530204430515195904  Sake gina Borno ya fi min zama mataimakin shug...   \n",
       "3    1530195703603118080  Karyan banza makayace governor we. We say no t...   \n",
       "4    1530184158164701184  Best governor Mai adalci. Allah bamu I kon yin...   \n",
       "..                   ...                                                ...   \n",
       "459  1529944423605452826                                     Namadi sambo?    \n",
       "460  1529942329062309888                                                NaN   \n",
       "461  1529938734690582545                                        Hmmmm 🤔🤔🤔🤔    \n",
       "462  1529937371025883141                                 Allah ya taimaka.    \n",
       "463  1529936746368188432                   Oh no  no problem is time enjoy    \n",
       "\n",
       "     size  \n",
       "0      16  \n",
       "1      15  \n",
       "2      12  \n",
       "3      12  \n",
       "4      14  \n",
       "..    ...  \n",
       "459     3  \n",
       "460     1  \n",
       "461     3  \n",
       "462     4  \n",
       "463     8  \n",
       "\n",
       "[464 rows x 3 columns]"
      ]
     },
     "execution_count": 66,
     "metadata": {},
     "output_type": "execute_result"
    }
   ],
   "source": [
    "data"
   ]
  },
  {
   "cell_type": "code",
   "execution_count": 76,
   "id": "1161b925-76bd-4d92-bd89-4e095bd63cec",
   "metadata": {},
   "outputs": [],
   "source": [
    "data.to_excel('annoted_data.xlsx')"
   ]
  },
  {
   "cell_type": "code",
   "execution_count": 74,
   "id": "37db20b7-7c4a-4f09-bfe2-19ccff20fe70",
   "metadata": {},
   "outputs": [
    {
     "data": {
      "text/plain": [
       "392"
      ]
     },
     "execution_count": 74,
     "metadata": {},
     "output_type": "execute_result"
    }
   ],
   "source": [
    "len(data)"
   ]
  },
  {
   "cell_type": "code",
   "execution_count": 2,
   "id": "d53d8d1c-739a-4a21-875c-4ff1a2026758",
   "metadata": {},
   "outputs": [],
   "source": [
    "import pandas as pd"
   ]
  },
  {
   "cell_type": "code",
   "execution_count": 4,
   "id": "bda0a975-04ba-4298-8409-7023d9941b26",
   "metadata": {},
   "outputs": [],
   "source": [
    "dt = pd.read_csv('tweetfile.csv')"
   ]
  },
  {
   "cell_type": "code",
   "execution_count": 13,
   "id": "1b274908-257f-4af6-8208-a5294939be87",
   "metadata": {},
   "outputs": [
    {
     "name": "stdout",
     "output_type": "stream",
     "text": [
      "\n",
      "The new Datasets\n"
     ]
    },
    {
     "data": {
      "text/plain": [
       "4       They dressed up as women to show support for S...\n",
       "9                           Wani siyasa sai Yobe wlhy 🤣🤣🤣\n",
       "12      Bayan tururuwar da yan siyasa suka yi na komaw...\n",
       "13      Na jima Ina fadi ba siyasa ake a kano ba, hauk...\n",
       "14      Malan Bahauce yana cewa “idan kaji shiru, lafi...\n",
       "                              ...                        \n",
       "1986    An samu tashin hankali a yayin zaben fidda gwa...\n",
       "1988    Wani ɗan takarar majalisar tarayya a PDP ya su...\n",
       "1989    Wallahi….siyasa sai barawon gwamnati. https://...\n",
       "1991    Dan kasuwa bazai Iya siyasa ba... All your sav...\n",
       "1996    Idan shurun shuwagabannin siyasa dana addinih ...\n",
       "Name: full_text, Length: 598, dtype: object"
      ]
     },
     "execution_count": 13,
     "metadata": {},
     "output_type": "execute_result"
    }
   ],
   "source": [
    "\n",
    "#removing all the retweets from the datasets\n",
    "ds = dt[dt['full_text'].str.contains(\"@\", \"RT\") == False]\n",
    "\n",
    "#removing the urls from the tweeted data in 'full_text' column\n",
    "dt['full_text'] = dt['full_text'].replace(to_replace=r'https?:\\/\\/.*[\\r\\n]*', value='', regex=True)\n",
    "\n",
    "#veiwing the pure tweets\n",
    "print(\"\\nThe new Datasets\")\n",
    "ds.full_text"
   ]
  },
  {
   "cell_type": "code",
   "execution_count": 15,
   "id": "5a126b57-03d9-4dcf-854a-38d760672c37",
   "metadata": {},
   "outputs": [
    {
     "data": {
      "text/plain": [
       "4       They dressed up as women to show support for S...\n",
       "9                           Wani siyasa sai Yobe wlhy 🤣🤣🤣\n",
       "12      Bayan tururuwar da yan siyasa suka yi na komaw...\n",
       "13      Na jima Ina fadi ba siyasa ake a kano ba, hauk...\n",
       "14      Malan Bahauce yana cewa “idan kaji shiru, lafi...\n",
       "                              ...                        \n",
       "1986    An samu tashin hankali a yayin zaben fidda gwa...\n",
       "1988    Wani ɗan takarar majalisar tarayya a PDP ya su...\n",
       "1989    Wallahi….siyasa sai barawon gwamnati. https://...\n",
       "1991    Dan kasuwa bazai Iya siyasa ba... All your sav...\n",
       "1996    Idan shurun shuwagabannin siyasa dana addinih ...\n",
       "Name: full_text, Length: 598, dtype: object"
      ]
     },
     "execution_count": 15,
     "metadata": {},
     "output_type": "execute_result"
    }
   ],
   "source": [
    "ds.full_text"
   ]
  },
  {
   "cell_type": "code",
   "execution_count": 11,
   "id": "0418ecdf-8739-439e-ba55-a97646b41260",
   "metadata": {},
   "outputs": [
    {
     "name": "stderr",
     "output_type": "stream",
     "text": [
      "<ipython-input-11-e267d01ff87c>:2: SettingWithCopyWarning: \n",
      "A value is trying to be set on a copy of a slice from a DataFrame.\n",
      "Try using .loc[row_indexer,col_indexer] = value instead\n",
      "\n",
      "See the caveats in the documentation: https://pandas.pydata.org/pandas-docs/stable/user_guide/indexing.html#returning-a-view-versus-a-copy\n",
      "  ds['full_text'] = ds['full_text'].replace(to_replace=r'https?:\\/\\/.*[\\r\\n]*', value='', regex=True)\n"
     ]
    }
   ],
   "source": [
    "#removing the urls from the tweeted data in 'full_text' column\n",
    "ds['full_text'] = ds['full_text'].replace(to_replace=r'https?:\\/\\/.*[\\r\\n]*', value='', regex=True)"
   ]
  },
  {
   "cell_type": "code",
   "execution_count": 16,
   "id": "5ae9d2b7-33f0-497e-9501-46d353f29ac0",
   "metadata": {},
   "outputs": [],
   "source": [
    "ds.to_excel('new_dt.xlsx')"
   ]
  },
  {
   "cell_type": "code",
   "execution_count": null,
   "id": "c0abd84d-0996-4397-b1ee-5c1363fac1a6",
   "metadata": {},
   "outputs": [],
   "source": []
  }
 ],
 "metadata": {
  "kernelspec": {
   "display_name": "Python 3",
   "language": "python",
   "name": "python3"
  },
  "language_info": {
   "codemirror_mode": {
    "name": "ipython",
    "version": 3
   },
   "file_extension": ".py",
   "mimetype": "text/x-python",
   "name": "python",
   "nbconvert_exporter": "python",
   "pygments_lexer": "ipython3",
   "version": "3.8.8"
  }
 },
 "nbformat": 4,
 "nbformat_minor": 5
}
